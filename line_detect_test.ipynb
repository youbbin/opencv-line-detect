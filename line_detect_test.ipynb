{
 "cells": [
  {
   "cell_type": "markdown",
   "id": "01d7e60f",
   "metadata": {},
   "source": [
    "### 직선 검출\n",
    "\n",
    "#### 실내 바닥면 이미지에서 센서 위치 때문에 마스킹한 그리드의 검출 및 제거가 필요함"
   ]
  },
  {
   "cell_type": "code",
   "execution_count": 1,
   "id": "bd4a2faa",
   "metadata": {},
   "outputs": [],
   "source": [
    "path = \"image/line_detect/20240102_160513.jpg\""
   ]
  },
  {
   "cell_type": "code",
   "execution_count": 2,
   "id": "3d28f546",
   "metadata": {},
   "outputs": [],
   "source": [
    "import cv2\n",
    "import numpy as np"
   ]
  },
  {
   "cell_type": "code",
   "execution_count": 3,
   "id": "a3d1e9a7",
   "metadata": {},
   "outputs": [],
   "source": [
    "def detect_lines(image_path):\n",
    "    # 이미지 불러오기\n",
    "    image = cv2.imread(image_path)\n",
    "\n",
    "    # 이미지 크기 축소\n",
    "    scale_percent = 20\n",
    "    width = int(image.shape[1] * scale_percent / 100)\n",
    "    height = int(image.shape[0] * scale_percent / 100)\n",
    "    resized_image = cv2.resize(image, (width, height))\n",
    "\n",
    "    # 그레이스케일로 변환\n",
    "    gray = cv2.cvtColor(resized_image, cv2.COLOR_BGR2GRAY)\n",
    "\n",
    "    # 가우시안 블러로 잡음 제거 -> 잡음 제거 했더니 조도 낮은 곳(안쪽 구역 : P7~9)의 엣지 검출이 잘 안됨. OUT!!\n",
    "#     blurred = cv2.GaussianBlur(gray, (5, 5), 0)\n",
    "\n",
    "    # Canny Edge 검출\n",
    "    edges = cv2.Canny(gray, 50, 150)\n",
    "\n",
    "    # 허프 변환으로 직선 검출\n",
    "    lines = cv2.HoughLines(edges, 1, np.pi / 180, threshold=150)\n",
    "\n",
    "   \n",
    "    for line in lines:\n",
    "        rho, theta = line[0]\n",
    "        a = np.cos(theta)\n",
    "        b = np.sin(theta)\n",
    "        x0 = a * rho\n",
    "        y0 = b * rho\n",
    "        x1 = int(x0 + 1000 * (-b))\n",
    "        y1 = int(y0 + 1000 * (a))\n",
    "        x2 = int(x0 - 1000 * (-b))\n",
    "        y2 = int(y0 - 1000 * (a))\n",
    "        cv2.line(resized_image, (x1, y1), (x2, y2), (0, 0, 255), 2)\n",
    "\n",
    "\n",
    "    cv2.imshow('Detected Lines', resized_image)\n",
    "#     cv2.imshow('Edges', edges)\n",
    "    cv2.waitKey(0)\n",
    "    cv2.destroyAllWindows()"
   ]
  },
  {
   "cell_type": "code",
   "execution_count": 4,
   "id": "e7815c10",
   "metadata": {},
   "outputs": [
    {
     "ename": "AttributeError",
     "evalue": "'NoneType' object has no attribute 'shape'",
     "output_type": "error",
     "traceback": [
      "\u001b[1;31m---------------------------------------------------------------------------\u001b[0m",
      "\u001b[1;31mAttributeError\u001b[0m                            Traceback (most recent call last)",
      "Cell \u001b[1;32mIn[4], line 1\u001b[0m\n\u001b[1;32m----> 1\u001b[0m \u001b[43mdetect_lines\u001b[49m\u001b[43m(\u001b[49m\u001b[43mpath\u001b[49m\u001b[43m)\u001b[49m\n",
      "Cell \u001b[1;32mIn[3], line 7\u001b[0m, in \u001b[0;36mdetect_lines\u001b[1;34m(image_path)\u001b[0m\n\u001b[0;32m      5\u001b[0m \u001b[38;5;66;03m# 이미지 크기 축소\u001b[39;00m\n\u001b[0;32m      6\u001b[0m scale_percent \u001b[38;5;241m=\u001b[39m \u001b[38;5;241m20\u001b[39m\n\u001b[1;32m----> 7\u001b[0m width \u001b[38;5;241m=\u001b[39m \u001b[38;5;28mint\u001b[39m(\u001b[43mimage\u001b[49m\u001b[38;5;241;43m.\u001b[39;49m\u001b[43mshape\u001b[49m[\u001b[38;5;241m1\u001b[39m] \u001b[38;5;241m*\u001b[39m scale_percent \u001b[38;5;241m/\u001b[39m \u001b[38;5;241m100\u001b[39m)\n\u001b[0;32m      8\u001b[0m height \u001b[38;5;241m=\u001b[39m \u001b[38;5;28mint\u001b[39m(image\u001b[38;5;241m.\u001b[39mshape[\u001b[38;5;241m0\u001b[39m] \u001b[38;5;241m*\u001b[39m scale_percent \u001b[38;5;241m/\u001b[39m \u001b[38;5;241m100\u001b[39m)\n\u001b[0;32m      9\u001b[0m resized_image \u001b[38;5;241m=\u001b[39m cv2\u001b[38;5;241m.\u001b[39mresize(image, (width, height))\n",
      "\u001b[1;31mAttributeError\u001b[0m: 'NoneType' object has no attribute 'shape'"
     ]
    }
   ],
   "source": [
    "detect_lines(path)"
   ]
  }
 ],
 "metadata": {
  "kernelspec": {
   "display_name": "Python 3 (ipykernel)",
   "language": "python",
   "name": "python3"
  },
  "language_info": {
   "codemirror_mode": {
    "name": "ipython",
    "version": 3
   },
   "file_extension": ".py",
   "mimetype": "text/x-python",
   "name": "python",
   "nbconvert_exporter": "python",
   "pygments_lexer": "ipython3",
   "version": "3.10.9"
  }
 },
 "nbformat": 4,
 "nbformat_minor": 5
}
